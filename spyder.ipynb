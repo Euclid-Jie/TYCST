{
 "cells": [
  {
   "cell_type": "code",
   "execution_count": 28,
   "metadata": {},
   "outputs": [],
   "source": [
    "import requests\n",
    "from bs4 import BeautifulSoup\n",
    "from selenium import webdriver\n",
    "from selenium.webdriver import Chrome,ChromeOptions"
   ]
  },
  {
   "cell_type": "code",
   "execution_count": 21,
   "metadata": {},
   "outputs": [],
   "source": [
    "#定义一个根据网址，返回soup格式的函数，因为后文多次用到，所以写成函数\n",
    "def get_URL(URL):\n",
    "    headers = {'cookie':'qcc_did=0f41880e-c5c1-47a7-a869-cb1cb0f6cfff; UM_distinctid=1801638b9ea18f-060c7d35fcc0e6-1a343370-e1000-1801638b9ebc6b; QCCSESSID=b94f5af24d88d0456e233a5d18; zg_5068e513cb8449879f83e2a7142b20a6=%7B%22sid%22%3A%201650452721026%2C%22updated%22%3A%201650452721026%2C%22info%22%3A%201650452721029%2C%22superProperty%22%3A%20%22%7B%5C%22%E5%BA%94%E7%94%A8%E5%90%8D%E7%A7%B0%5C%22%3A%20%5C%22%E6%8B%9B%E6%8A%95%E6%A0%87WEB%E7%AB%AF%5C%22%7D%22%2C%22platform%22%3A%20%22%7B%7D%22%2C%22utm%22%3A%20%22%7B%7D%22%2C%22referrerDomain%22%3A%20%22www.qcc.com%22%7D; zg_did=%7B%22did%22%3A%20%2218046a5ed7da48-08765c1ea21e0d-6b3e555b-e1000-18046a5ed7ec1b%22%7D; zg_d609f98c92d24be8b23d93a3e4b117bc=%7B%22sid%22%3A%201650706179886%2C%22updated%22%3A%201650706194849%2C%22info%22%3A%201650706179889%2C%22superProperty%22%3A%20%22%7B%7D%22%2C%22platform%22%3A%20%22%7B%7D%22%2C%22utm%22%3A%20%22%7B%7D%22%2C%22referrerDomain%22%3A%20%22www.qcc.com%22%7D; SECKEY_ABVK=FDZVW3g8oQEnc/GT8AunVnFchqqIP6cY6sjdOcFoKxU%3D; BMAP_SECKEY=qSwC5U-XiBhLK4fO8e6XSUp9qlKbe1oIySuA9dNT28IZtUtx7MWzy3dUKJCan9UgIxqHecnuNbtHFZcNPIG7Y8lyYv5g3oupZaaWk1L4KqNnnvp9XQ7DkPS5LfSqwXr7c574FhyUstn1C1WfoJ76X7LBoXcNlxwvZG8rIu1VVDu_c7J_ZtOpR7FpW1wU01us; acw_tc=24aa139816511975366921344ef7324844f683e28521e30c94819f04ca; CNZZDATA1254842228=1870928680-1649630817-https%253A%252F%252Fcn.bing.com%252F%7C1651196066',\\\n",
    "        'user-agent':'Mozilla/5.0 (Windows NT 10.0; Win64; x64) AppleWebKit/537.36 (KHTML, like Gecko) Chrome/100.0.4896.127 Safari/537.36' }\n",
    "    response = requests.get(URL,headers=headers) #获取网页源码\n",
    "    response.encoding = 'utf-8' #设置编码格式\n",
    "    html = response.text #转换格式为html\n",
    "    soup = BeautifulSoup(html,features=\"lxml\") #转换为soup格式，方便下文处理\n",
    "    return(soup)"
   ]
  },
  {
   "cell_type": "markdown",
   "metadata": {},
   "source": [
    "## 根据公司名查询"
   ]
  },
  {
   "cell_type": "code",
   "execution_count": 23,
   "metadata": {},
   "outputs": [],
   "source": [
    "company_name = '光大控股创业投资（深圳）有限公司'\n",
    "URL = 'https://www.tianyancha.com/search?key='+company_name\n",
    "company_list = get_URL(URL)"
   ]
  },
  {
   "cell_type": "markdown",
   "metadata": {},
   "source": [
    "## 进入第一个公司主页，通常第一个就是目标公司"
   ]
  },
  {
   "cell_type": "code",
   "execution_count": 34,
   "metadata": {},
   "outputs": [
    {
     "name": "stderr",
     "output_type": "stream",
     "text": [
      "<ipython-input-34-d3e6ec782022>:8: DeprecationWarning: find_element_by_* commands are deprecated. Please use find_element() instead\n",
      "  driver.find_element_by_css_selector(\"#company_web_top > div.footer > div.link-hover-click.focusBtn.fptt-content > span:nth-child(2)\").click()\n",
      "<ipython-input-34-d3e6ec782022>:10: DeprecationWarning: find_element_by_* commands are deprecated. Please use find_element() instead\n",
      "  a = driver.find_element_by_class_name('invoice-left ')\n"
     ]
    }
   ],
   "source": [
    "list = company_list.find('div',\"result-list sv-search-container\")\n",
    "company = list.find('div')\n",
    "title = company.find('a')\n",
    "company_url = title.get('href')\n",
    "driver = Chrome() #模拟开浏览器\n",
    "driver.get(company_url) #载入公司网址\n",
    "#模拟点击发票抬头\n",
    "driver.find_element_by_css_selector(\"#company_web_top > div.footer > div.link-hover-click.focusBtn.fptt-content > span:nth-child(2)\").click()\n",
    "#获得发票抬头信息\n",
    "a = driver.find_element_by_class_name('invoice-left ')\n",
    "text = a.get_attribute('outerHTML')\n",
    "driver.quit()"
   ]
  },
  {
   "cell_type": "markdown",
   "metadata": {},
   "source": [
    "## 数据处理"
   ]
  },
  {
   "cell_type": "code",
   "execution_count": 37,
   "metadata": {},
   "outputs": [],
   "source": [
    "soup = BeautifulSoup(text,features=\"lxml\")"
   ]
  },
  {
   "cell_type": "code",
   "execution_count": 48,
   "metadata": {},
   "outputs": [],
   "source": [
    "data_list = soup.div.findAll('div')"
   ]
  },
  {
   "cell_type": "code",
   "execution_count": 59,
   "metadata": {},
   "outputs": [
    {
     "name": "stdout",
     "output_type": "stream",
     "text": [
      "光大控股创业投资（深圳）有限公司\n",
      "9144030072713064X7\n",
      "深圳市福田区深南大道4013号兴业银行大厦8楼\n",
      "0755-8302****\n",
      "兴业银行深圳皇岗支行\n",
      "338050100100005286\n"
     ]
    }
   ],
   "source": [
    "for item in data_list:\n",
    "    print(item.span.get_text())\n"
   ]
  },
  {
   "cell_type": "code",
   "execution_count": 2,
   "metadata": {},
   "outputs": [],
   "source": [
    "text = '<div class=\"invoice-left -no-right\"><div class=\"row\"><b class=\"name\">企业名称：</b><span class=\"inner\">深圳市万里程汽车贸易有限公司宝安分公司</span></div><div class=\"row\"><b class=\"name\">企业税号：</b><span class=\"inner\">暂无信息</span></div><div class=\"row\"><b class=\"name\">企业地址：</b><span class=\"inner\">深圳市宝安区龙华北环路南侧龙日科技大厦东侧首层</span></div><div class=\"row\"><b class=\"name\">企业电话：</b><span class=\"inner\">暂无信息</span></div><div class=\"row\"><b class=\"name\">开户银行：</b><span class=\"inner\">暂无信息</span></div><div class=\"row -mb0\"><b class=\"name\">银行账户：</b><span class=\"inner\">暂无信息</span></div><div class=\"row\"><span class=\"no-data-tip\">*暂无发票抬头信息</span></div></div>'"
   ]
  },
  {
   "cell_type": "code",
   "execution_count": 3,
   "metadata": {},
   "outputs": [],
   "source": [
    "from bs4 import BeautifulSoup"
   ]
  },
  {
   "cell_type": "code",
   "execution_count": 4,
   "metadata": {},
   "outputs": [],
   "source": [
    "soup = BeautifulSoup(text,features=\"lxml\")"
   ]
  },
  {
   "cell_type": "code",
   "execution_count": 5,
   "metadata": {},
   "outputs": [],
   "source": [
    "data_list = soup.div.findAll('div')"
   ]
  },
  {
   "cell_type": "code",
   "execution_count": 6,
   "metadata": {},
   "outputs": [
    {
     "data": {
      "text/plain": [
       "[<div class=\"row\"><b class=\"name\">企业名称：</b><span class=\"inner\">深圳市万里程汽车贸易有限公司宝安分公司</span></div>,\n",
       " <div class=\"row\"><b class=\"name\">企业税号：</b><span class=\"inner\">暂无信息</span></div>,\n",
       " <div class=\"row\"><b class=\"name\">企业地址：</b><span class=\"inner\">深圳市宝安区龙华北环路南侧龙日科技大厦东侧首层</span></div>,\n",
       " <div class=\"row\"><b class=\"name\">企业电话：</b><span class=\"inner\">暂无信息</span></div>,\n",
       " <div class=\"row\"><b class=\"name\">开户银行：</b><span class=\"inner\">暂无信息</span></div>,\n",
       " <div class=\"row -mb0\"><b class=\"name\">银行账户：</b><span class=\"inner\">暂无信息</span></div>,\n",
       " <div class=\"row\"><span class=\"no-data-tip\">*暂无发票抬头信息</span></div>]"
      ]
     },
     "execution_count": 6,
     "metadata": {},
     "output_type": "execute_result"
    }
   ],
   "source": [
    "data_list"
   ]
  },
  {
   "cell_type": "code",
   "execution_count": 12,
   "metadata": {},
   "outputs": [
    {
     "name": "stdout",
     "output_type": "stream",
     "text": [
      "深圳市万里程汽车贸易有限公司宝安分公司\n",
      "暂无信息\n",
      "深圳市宝安区龙华北环路南侧龙日科技大厦东侧首层\n",
      "暂无信息\n",
      "暂无信息\n",
      "暂无信息\n"
     ]
    }
   ],
   "source": [
    "for item in data_list[0:6]:\n",
    "    print(item.span.get_text())"
   ]
  },
  {
   "cell_type": "code",
   "execution_count": 2,
   "metadata": {},
   "outputs": [],
   "source": [
    "html = '{\"data\":{\"id\":null,\"userId\":null,\"openid\":null,\"gid\":817637971,\"name\":\"深圳市万里程汽车服务有限公司\",\"taxnum\":\"914403006626760854\",\"address\":\"深圳市宝安区龙华街道和平西路圳宝工业区宿舍楼A栋第一层\",\"phone\":\"0755-3387****\",\"bank\":\"商业银行龙华支行\",\"bankAccount\":\"0502100130873\",\"createTime\":null,\"updateTime\":null,\"deleted\":null,\"wxQrcodeUrl\":\"https://mp.weixin.qq.com/cgi-bin/showqrcode?ticket=gQHv7jwAAAAAAAAAAS5odHRwOi8vd2VpeGluLnFxLmNvbS9xLzAyZUpzSHdUYkVjc2sxRnkxbHh5Y2MAAgRi9G1iAwQAjScA\"},\"vipMessage\":\"\",\"special\":\"\",\"state\":\"ok\"}'"
   ]
  },
  {
   "cell_type": "code",
   "execution_count": 15,
   "metadata": {},
   "outputs": [
    {
     "data": {
      "text/plain": [
       "['\"name\":\"深圳市万里程汽车服务有限公司\"',\n",
       " '\"taxnum\":\"914403006626760854\"',\n",
       " '\"address\":\"深圳市宝安区龙华街道和平西路圳宝工业区宿舍楼A栋第一层\"',\n",
       " '\"phone\":\"0755-3387****\"',\n",
       " '\"bank\":\"商业银行龙华支行\"',\n",
       " '\"bankAccount\":\"0502100130873\"',\n",
       " '\"createTime\":null']"
      ]
     },
     "execution_count": 15,
     "metadata": {},
     "output_type": "execute_result"
    }
   ],
   "source": [
    "html.split(',')[4:11]"
   ]
  },
  {
   "cell_type": "code",
   "execution_count": 1,
   "metadata": {},
   "outputs": [
    {
     "data": {
      "text/plain": [
       "['\"name\":\"深圳市麦金士企业管理咨询有限公司\"',\n",
       " '\"taxnum\":\"91440300728561353M\"',\n",
       " '\"address\":\"深圳市福田区民田路1号发展兴苑1栋海棠阁17A\"',\n",
       " '\"phone\":\"0755-6133****\"',\n",
       " '\"bank\":\"招商银行深圳华侨城支行',\n",
       " '\"',\n",
       " '\"bankAccount\":\"817082952710001\"']"
      ]
     },
     "execution_count": 1,
     "metadata": {},
     "output_type": "execute_result"
    }
   ],
   "source": [
    "html1 = '{\"data\":{\"id\":null,\"userId\":null,\"openid\":null,\"gid\":2316160171,\"name\":\"深圳市麦金士企业管理咨询有限公司\",\"taxnum\":\"91440300728561353M\",\"address\":\"深圳市福田区民田路1号发展兴苑1栋海棠阁17A\",\"phone\":\"0755-6133****\",\"bank\":\"招商银行深圳华侨城支行,\",\"bankAccount\":\"817082952710001\",\"createTime\":null,\"updateTime\":null,\"deleted\":null,\"wxQrcodeUrl\":\"https://mp.weixin.qq.com/cgi-bin/showqrcode?ticket=gQGT7zwAAAAAAAAAAS5odHRwOi8vd2VpeGluLnFxLmNvbS9xLzAyaFZZenhiYkVjc2sxQ1BWbGh5Y1cAAgSz7G1iAwQAjScA\"},\"vipMessage\":\"\",\"special\":\"\",\"state\":\"ok\"}'\n",
    "html1.split(',')[4:11]\n"
   ]
  },
  {
   "cell_type": "code",
   "execution_count": 4,
   "metadata": {},
   "outputs": [
    {
     "data": {
      "text/plain": [
       "['深圳市万里程汽车服务有限公司',\n",
       " '914403006626760854',\n",
       " '深圳市宝安区龙华街道和平西路圳宝工业区宿舍楼A栋第一层',\n",
       " '0755-3387****',\n",
       " '商业银行龙华支行',\n",
       " '0502100130873']"
      ]
     },
     "execution_count": 4,
     "metadata": {},
     "output_type": "execute_result"
    }
   ],
   "source": [
    "data_list = []\n",
    "try:\n",
    "    for item in html.split(',')[4:10]:\n",
    "        a = item.split(':')[1].strip('\"')\n",
    "        data_list.append(a)\n",
    "    \n",
    "except:\n",
    "    data_list = []\n",
    "    for item in html.split(',')[4:11]:\n",
    "        try:\n",
    "            a = item.split(':')[1].strip('\"')\n",
    "            data_list.append(a)\n",
    "        except:    \n",
    "            a = item.split(':')[0].strip('\"')\n",
    "    data_list[-1]\n",
    "\n",
    "data_list"
   ]
  },
  {
   "cell_type": "code",
   "execution_count": 16,
   "metadata": {},
   "outputs": [],
   "source": [
    "company_url = 'https://www.tianyancha.com/company/817637971'"
   ]
  },
  {
   "cell_type": "code",
   "execution_count": 17,
   "metadata": {},
   "outputs": [],
   "source": [
    "url3 = 'https://www.tianyancha.com/cloud-wechat/qrcode.json?gid=817637971'"
   ]
  },
  {
   "cell_type": "code",
   "execution_count": 18,
   "metadata": {},
   "outputs": [],
   "source": [
    "url_head = 'https://www.tianyancha.com/cloud-wechat/qrcode.json?gid='"
   ]
  },
  {
   "cell_type": "code",
   "execution_count": 22,
   "metadata": {},
   "outputs": [
    {
     "data": {
      "text/plain": [
       "True"
      ]
     },
     "execution_count": 22,
     "metadata": {},
     "output_type": "execute_result"
    }
   ],
   "source": [
    "url_head+company_url.split('/')[-1]"
   ]
  },
  {
   "cell_type": "code",
   "execution_count": 29,
   "metadata": {},
   "outputs": [],
   "source": [
    "import pandas\n",
    "df = pandas.read_csv(r'C:\\Users\\欧玮杰\\Desktop\\我和我所热爱的\\python\\爬企查查税头\\xydm.txt',names=[\"信用代码\"], header=0)"
   ]
  },
  {
   "cell_type": "code",
   "execution_count": 30,
   "metadata": {},
   "outputs": [
    {
     "data": {
      "text/plain": [
       "2869684"
      ]
     },
     "execution_count": 30,
     "metadata": {},
     "output_type": "execute_result"
    }
   ],
   "source": [
    "len(df)"
   ]
  },
  {
   "cell_type": "code",
   "execution_count": 31,
   "metadata": {},
   "outputs": [],
   "source": [
    "df1 = df[df[\"信用代码\"]=='-']"
   ]
  },
  {
   "cell_type": "code",
   "execution_count": 33,
   "metadata": {},
   "outputs": [
    {
     "data": {
      "text/plain": [
       "[715191.25, 1430382.5, 2145573.75, 2860765]"
      ]
     },
     "execution_count": 33,
     "metadata": {},
     "output_type": "execute_result"
    }
   ],
   "source": [
    "import numpy\n",
    "df = df.drop(df1.index,axis=0)\n",
    "[len(df)/4,len(df)/4*2,len(df)/4*3,len(df)]"
   ]
  },
  {
   "cell_type": "code",
   "execution_count": 34,
   "metadata": {},
   "outputs": [],
   "source": [
    "df.to_csv('xydm.csv',index=False)"
   ]
  }
 ],
 "metadata": {
  "interpreter": {
   "hash": "4832126f7d4047808203b0af11e9afdb260dabb5323c882ffc138c3bbac44c58"
  },
  "kernelspec": {
   "display_name": "Python 3.8.2 64-bit",
   "language": "python",
   "name": "python3"
  },
  "language_info": {
   "codemirror_mode": {
    "name": "ipython",
    "version": 3
   },
   "file_extension": ".py",
   "mimetype": "text/x-python",
   "name": "python",
   "nbconvert_exporter": "python",
   "pygments_lexer": "ipython3",
   "version": "3.8.2"
  },
  "orig_nbformat": 4
 },
 "nbformat": 4,
 "nbformat_minor": 2
}
